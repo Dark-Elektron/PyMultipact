{
 "cells": [
  {
   "cell_type": "code",
   "execution_count": 4,
   "id": "e366cec9",
   "metadata": {},
   "outputs": [
    {
     "name": "stdout",
     "output_type": "stream",
     "text": [
      "D:\\Dropbox\\PyMultipact\n"
     ]
    }
   ],
   "source": [
    "%cd ..\n",
    "from domain import Domain"
   ]
  },
  {
   "cell_type": "code",
   "execution_count": 11,
   "id": "f45b2337",
   "metadata": {},
   "outputs": [],
   "source": [
    "domain = Domain()\n",
    "# domain.draw()"
   ]
  },
  {
   "cell_type": "code",
   "execution_count": 12,
   "id": "fda4232d",
   "metadata": {},
   "outputs": [
    {
     "ename": "NameError",
     "evalue": "name 'mesh' is not defined",
     "output_type": "error",
     "traceback": [
      "\u001b[1;31m---------------------------------------------------------------------------\u001b[0m",
      "\u001b[1;31mNameError\u001b[0m                                 Traceback (most recent call last)",
      "Cell \u001b[1;32mIn[12], line 1\u001b[0m\n\u001b[1;32m----> 1\u001b[0m \u001b[43mdomain\u001b[49m\u001b[38;5;241;43m.\u001b[39;49m\u001b[43mcompute_fields\u001b[49m\u001b[43m(\u001b[49m\u001b[43m)\u001b[49m\n",
      "File \u001b[1;32mD:\\Dropbox\\PyMultipact\\domain.py:78\u001b[0m, in \u001b[0;36mDomain.compute_fields\u001b[1;34m(self)\u001b[0m\n\u001b[0;32m     75\u001b[0m \u001b[38;5;28;01mdef\u001b[39;00m \u001b[38;5;21mcompute_fields\u001b[39m(\u001b[38;5;28mself\u001b[39m):\n\u001b[0;32m     76\u001b[0m     \u001b[38;5;66;03m# define finite element space\u001b[39;00m\n\u001b[0;32m     77\u001b[0m     fes \u001b[38;5;241m=\u001b[39m HCurl(mesh, order\u001b[38;5;241m=\u001b[39m\u001b[38;5;241m1\u001b[39m, dirichlet\u001b[38;5;241m=\u001b[39m\u001b[38;5;124m'\u001b[39m\u001b[38;5;124mdefault\u001b[39m\u001b[38;5;124m'\u001b[39m)\n\u001b[1;32m---> 78\u001b[0m     u, v \u001b[38;5;241m=\u001b[39m fes\u001b[38;5;241m.\u001b[39mTnT()\n\u001b[0;32m     80\u001b[0m     \u001b[38;5;28mself\u001b[39m\u001b[38;5;241m.\u001b[39ma \u001b[38;5;241m=\u001b[39m BilinearForm(y \u001b[38;5;241m*\u001b[39m curl(u) \u001b[38;5;241m*\u001b[39m curl(v) \u001b[38;5;241m*\u001b[39m dx)\u001b[38;5;241m.\u001b[39mAssemble()\n\u001b[0;32m     81\u001b[0m     \u001b[38;5;28mself\u001b[39m\u001b[38;5;241m.\u001b[39mm \u001b[38;5;241m=\u001b[39m BilinearForm(y \u001b[38;5;241m*\u001b[39m u \u001b[38;5;241m*\u001b[39m v \u001b[38;5;241m*\u001b[39m dx)\u001b[38;5;241m.\u001b[39mAssemble()\n",
      "\u001b[1;31mNameError\u001b[0m: name 'mesh' is not defined"
     ]
    }
   ],
   "source": [
    "domain.compute_fields()"
   ]
  },
  {
   "cell_type": "markdown",
   "id": "6f468fa6",
   "metadata": {},
   "source": []
  }
 ],
 "metadata": {
  "kernelspec": {
   "display_name": "Python 3 (ipykernel)",
   "language": "python",
   "name": "python3"
  },
  "language_info": {
   "codemirror_mode": {
    "name": "ipython",
    "version": 3
   },
   "file_extension": ".py",
   "mimetype": "text/x-python",
   "name": "python",
   "nbconvert_exporter": "python",
   "pygments_lexer": "ipython3",
   "version": "3.10.13"
  },
  "toc": {
   "base_numbering": 1,
   "nav_menu": {},
   "number_sections": true,
   "sideBar": true,
   "skip_h1_title": false,
   "title_cell": "Table of Contents",
   "title_sidebar": "Contents",
   "toc_cell": false,
   "toc_position": {},
   "toc_section_display": true,
   "toc_window_display": false
  }
 },
 "nbformat": 4,
 "nbformat_minor": 5
}
