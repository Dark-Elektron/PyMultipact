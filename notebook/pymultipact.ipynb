{
 "cells": [
  {
   "cell_type": "code",
   "execution_count": 1,
   "id": "281b5b33",
   "metadata": {},
   "outputs": [
    {
     "name": "stdout",
     "output_type": "stream",
     "text": [
      "D:\\Dropbox\\PyMultipact\n"
     ]
    },
    {
     "name": "stderr",
     "output_type": "stream",
     "text": [
      "C:\\Users\\sosoho\\anaconda3\\envs\\PyMultipactNEW\\Lib\\site-packages\\IPython\\core\\magics\\osm.py:417: UserWarning: This is now an optional IPython functionality, setting dhist requires you to install the `pickleshare` library.\n",
      "  self.shell.db['dhist'] = compress_dhist(dhist)[-100:]\n"
     ]
    }
   ],
   "source": [
    "%cd .."
   ]
  },
  {
   "cell_type": "code",
   "execution_count": 2,
   "id": "5fbc5617-7168-4e4c-a4ec-4d2aea58d8b5",
   "metadata": {},
   "outputs": [],
   "source": [
    "# import ipympl\n",
    "import matplotlib\n",
    "%matplotlib Qt5Agg\n",
    "from domain import Domain"
   ]
  },
  {
   "cell_type": "code",
   "execution_count": 3,
   "id": "271ae5da",
   "metadata": {},
   "outputs": [
    {
     "data": {
      "application/vnd.jupyter.widget-view+json": {
       "model_id": "365bf58464d949449f1cfca00365e61c",
       "version_major": 2,
       "version_minor": 0
      },
      "text/plain": [
       "WebGuiWidget(layout=Layout(height='50vh', width='100%'), value={'gui_settings': {}, 'ngsolve_version': '6.2.24…"
      ]
     },
     "metadata": {},
     "output_type": "display_data"
    }
   ],
   "source": [
    "domain = Domain()\n",
    "domain.draw_mesh()"
   ]
  },
  {
   "cell_type": "code",
   "execution_count": 4,
   "id": "9b28647f",
   "metadata": {},
   "outputs": [
    {
     "name": "stdout",
     "output_type": "stream",
     "text": [
      "0 1.341463678329938e-11 freq:  0.0001747552749267668 MHz\n",
      "1 743.1871021621388 freq:  1300.738265263309 MHz\n",
      "2 2692.9536012999865 freq:  2476.026394331402 MHz\n"
     ]
    }
   ],
   "source": [
    "domain.compute_fields()"
   ]
  },
  {
   "cell_type": "code",
   "execution_count": 5,
   "id": "44032bdf",
   "metadata": {},
   "outputs": [
    {
     "data": {
      "application/vnd.jupyter.widget-view+json": {
       "model_id": "3573e840e46d496a96e578c64368bc64",
       "version_major": 2,
       "version_minor": 0
      },
      "text/plain": [
       "WebGuiWidget(layout=Layout(height='50vh', width='100%'), value={'gui_settings': {}, 'ngsolve_version': '6.2.24…"
      ]
     },
     "metadata": {},
     "output_type": "display_data"
    }
   ],
   "source": [
    "domain.draw_fields(1, 'E')"
   ]
  },
  {
   "cell_type": "code",
   "execution_count": 6,
   "id": "8c208f30",
   "metadata": {},
   "outputs": [
    {
     "name": "stdout",
     "output_type": "stream",
     "text": [
      "[[-0.0576524   0.        ]\n",
      " [-0.0576524   0.035     ]\n",
      " [-0.05762051  0.03500007]\n",
      " ...\n",
      " [ 0.05762051  0.03500007]\n",
      " [ 0.0576524   0.035     ]\n",
      " [ 0.0576524   0.        ]]\n",
      "1300738265.263309\n",
      "Initial number of particles:  10\n",
      "[[-0.0002474   0.10335227]\n",
      " [-0.0002474   0.10335227]\n",
      " [-0.0002474   0.10335227]\n",
      " [-0.0002474   0.10335227]\n",
      " [-0.0002474   0.10335227]\n",
      " [-0.0002474   0.10335227]\n",
      " [-0.0002474   0.10335227]\n",
      " [-0.0002474   0.10335227]\n",
      " [-0.0002474   0.10335227]\n",
      " [-0.0002474   0.10335227]]\n",
      "Now here\n",
      "Now here\n",
      "Now here\n",
      "Now here\n",
      "True\n",
      "True\n",
      "True\n",
      "True\n",
      "True\n",
      "True\n",
      "True\n",
      "True\n",
      "True\n",
      "True\n",
      "Now here\n",
      "Now here [0, 1, 2, 7, 8, 9] [3, 4, 5, 6, 3, 4, 5, 6] [3, 4, 5, 6, 3, 4, 5, 6, 0, 1, 2, 7, 8, 9]\n",
      "[[        nan         nan]\n",
      " [        nan         nan]\n",
      " [        nan         nan]\n",
      " [-0.0002474   0.10335227]\n",
      " [-0.0002474   0.10335227]\n",
      " [-0.0002474   0.10335227]\n",
      " [-0.0002474   0.10335227]\n",
      " [        nan         nan]\n",
      " [        nan         nan]\n",
      " [        nan         nan]]\n",
      "Now here\n",
      "Done rk4 6 \n",
      " [[nan nan]\n",
      " [nan nan]\n",
      " [nan nan]\n",
      " [nan nan]\n",
      " [nan nan]\n",
      " [nan nan]]\n",
      "====================================================================================================\n",
      "[[nan nan]\n",
      " [nan nan]\n",
      " [nan nan]\n",
      " [nan nan]\n",
      " [nan nan]\n",
      " [nan nan]]\n"
     ]
    },
    {
     "name": "stderr",
     "output_type": "stream",
     "text": [
      "D:\\Dropbox\\PyMultipact\\integrators.py:561: RuntimeWarning: invalid value encountered in sqrt\n",
      "  particles.u[ind] = u_emission + q0 / m0 * np.sqrt(1 - (self.norm([u_emission]) / c0) ** 2) * (\n"
     ]
    },
    {
     "ename": "NgException",
     "evalue": "Meshpoint 0 not in mesh!",
     "output_type": "error",
     "traceback": [
      "\u001b[1;31m---------------------------------------------------------------------------\u001b[0m",
      "\u001b[1;31mNgException\u001b[0m                               Traceback (most recent call last)",
      "Cell \u001b[1;32mIn[6], line 1\u001b[0m\n\u001b[1;32m----> 1\u001b[0m \u001b[43mdomain\u001b[49m\u001b[38;5;241;43m.\u001b[39;49m\u001b[43manalyse_multipacting\u001b[49m\u001b[43m(\u001b[49m\u001b[43m)\u001b[49m\n",
      "File \u001b[1;32mD:\\Dropbox\\PyMultipact\\domain.py:245\u001b[0m, in \u001b[0;36mDomain.analyse_multipacting\u001b[1;34m(self, mode, init_pos, epks, phis, v_init, init_points, integrator)\u001b[0m\n\u001b[0;32m    243\u001b[0m \u001b[38;5;28;01mif\u001b[39;00m particles\u001b[38;5;241m.\u001b[39mlen \u001b[38;5;241m!=\u001b[39m \u001b[38;5;241m0\u001b[39m:\n\u001b[0;32m    244\u001b[0m     particles\u001b[38;5;241m.\u001b[39msave_old()\n\u001b[1;32m--> 245\u001b[0m     \u001b[43mintegrators\u001b[49m\u001b[38;5;241;43m.\u001b[39;49m\u001b[43mrk4\u001b[49m\u001b[43m(\u001b[49m\u001b[43mparticles\u001b[49m\u001b[43m,\u001b[49m\u001b[43m \u001b[49m\u001b[43mt\u001b[49m\u001b[43m,\u001b[49m\u001b[43m \u001b[49m\u001b[43mdt\u001b[49m\u001b[43m,\u001b[49m\u001b[43m \u001b[49m\u001b[43mem\u001b[49m\u001b[43m,\u001b[49m\u001b[43m \u001b[49m\u001b[43mscale\u001b[49m\u001b[43m,\u001b[49m\u001b[43m \u001b[49m\u001b[38;5;28;43mself\u001b[39;49m\u001b[38;5;241;43m.\u001b[39;49m\u001b[43msey\u001b[49m\u001b[43m)\u001b[49m\n\u001b[0;32m    246\u001b[0m     particles\u001b[38;5;241m.\u001b[39mupdate_record()\n\u001b[0;32m    247\u001b[0m counter \u001b[38;5;241m+\u001b[39m\u001b[38;5;241m=\u001b[39m \u001b[38;5;241m1\u001b[39m\n",
      "File \u001b[1;32mD:\\Dropbox\\PyMultipact\\integrators.py:296\u001b[0m, in \u001b[0;36mIntegrators.rk4\u001b[1;34m(self, particles, tn, h, em, scale, sey)\u001b[0m\n\u001b[0;32m    294\u001b[0m mask \u001b[38;5;241m=\u001b[39m np\u001b[38;5;241m.\u001b[39mones(\u001b[38;5;28mlen\u001b[39m(particles\u001b[38;5;241m.\u001b[39mx), dtype\u001b[38;5;241m=\u001b[39m\u001b[38;5;28mbool\u001b[39m)\n\u001b[0;32m    295\u001b[0m \u001b[38;5;66;03m# k1\u001b[39;00m\n\u001b[1;32m--> 296\u001b[0m ku1 \u001b[38;5;241m=\u001b[39m h \u001b[38;5;241m*\u001b[39m \u001b[38;5;28;43mself\u001b[39;49m\u001b[38;5;241;43m.\u001b[39;49m\u001b[43mlorentz_force\u001b[49m\u001b[43m(\u001b[49m\u001b[43mparticles\u001b[49m\u001b[43m,\u001b[49m\u001b[43m \u001b[49m\u001b[43mmask\u001b[49m\u001b[43m,\u001b[49m\u001b[43m \u001b[49m\u001b[43mtn\u001b[49m\u001b[43m,\u001b[49m\u001b[43m \u001b[49m\u001b[43mem\u001b[49m\u001b[43m,\u001b[49m\u001b[43m \u001b[49m\u001b[43mscale\u001b[49m\u001b[43m)\u001b[49m\n\u001b[0;32m    297\u001b[0m kx1 \u001b[38;5;241m=\u001b[39m h \u001b[38;5;241m*\u001b[39m particles\u001b[38;5;241m.\u001b[39mu\n\u001b[0;32m    298\u001b[0m particles_dummy \u001b[38;5;241m=\u001b[39m copy\u001b[38;5;241m.\u001b[39mdeepcopy(particles)\n",
      "File \u001b[1;32mD:\\Dropbox\\PyMultipact\\integrators.py:451\u001b[0m, in \u001b[0;36mIntegrators.lorentz_force\u001b[1;34m(self, particles, mask, tn, em, scale)\u001b[0m\n\u001b[0;32m    446\u001b[0m x, u, phi \u001b[38;5;241m=\u001b[39m particles\u001b[38;5;241m.\u001b[39mx[mask], particles\u001b[38;5;241m.\u001b[39mu[mask], particles\u001b[38;5;241m.\u001b[39mphi[mask]\n\u001b[0;32m    447\u001b[0m \u001b[38;5;66;03m# get e and b field from eigenmode analysis at particle current position\u001b[39;00m\n\u001b[0;32m    448\u001b[0m \u001b[38;5;66;03m#         print(\"\\t\\t Before lorentz\")\u001b[39;00m\n\u001b[0;32m    449\u001b[0m \n\u001b[0;32m    450\u001b[0m \u001b[38;5;66;03m#         print(pos, scale)\u001b[39;00m\n\u001b[1;32m--> 451\u001b[0m e \u001b[38;5;241m=\u001b[39m scale \u001b[38;5;241m*\u001b[39m \u001b[43mem\u001b[49m\u001b[38;5;241;43m.\u001b[39;49m\u001b[43me\u001b[49m\u001b[43m(\u001b[49m\u001b[38;5;28;43mself\u001b[39;49m\u001b[38;5;241;43m.\u001b[39;49m\u001b[43mmesh\u001b[49m\u001b[43m(\u001b[49m\u001b[43mx\u001b[49m\u001b[43m[\u001b[49m\u001b[43m:\u001b[49m\u001b[43m,\u001b[49m\u001b[43m \u001b[49m\u001b[38;5;241;43m0\u001b[39;49m\u001b[43m]\u001b[49m\u001b[43m,\u001b[49m\u001b[43m \u001b[49m\u001b[43mx\u001b[49m\u001b[43m[\u001b[49m\u001b[43m:\u001b[49m\u001b[43m,\u001b[49m\u001b[43m \u001b[49m\u001b[38;5;241;43m1\u001b[39;49m\u001b[43m]\u001b[49m\u001b[43m)\u001b[49m\u001b[43m)\u001b[49m \u001b[38;5;241m*\u001b[39m np\u001b[38;5;241m.\u001b[39mexp(\u001b[38;5;241m1\u001b[39mj \u001b[38;5;241m*\u001b[39m (\u001b[38;5;28mself\u001b[39m\u001b[38;5;241m.\u001b[39mw \u001b[38;5;241m*\u001b[39m tn \u001b[38;5;241m+\u001b[39m phi))\n\u001b[0;32m    452\u001b[0m b \u001b[38;5;241m=\u001b[39m mu0 \u001b[38;5;241m*\u001b[39m scale \u001b[38;5;241m*\u001b[39m em\u001b[38;5;241m.\u001b[39mh(\u001b[38;5;28mself\u001b[39m\u001b[38;5;241m.\u001b[39mmesh(x[:, \u001b[38;5;241m0\u001b[39m], x[:, \u001b[38;5;241m1\u001b[39m])) \u001b[38;5;241m*\u001b[39m np\u001b[38;5;241m.\u001b[39mexp(\u001b[38;5;241m1\u001b[39mj \u001b[38;5;241m*\u001b[39m (\u001b[38;5;28mself\u001b[39m\u001b[38;5;241m.\u001b[39mw \u001b[38;5;241m*\u001b[39m tn \u001b[38;5;241m+\u001b[39m phi))\n\u001b[0;32m    454\u001b[0m \u001b[38;5;66;03m# k = q0/m0*np.sqrt(1 - (norm(u)/c0)**2)*(e.real + cross(u, b.real)-(1/c0**2)*(dot(u, e.real)*u))  # <- relativistic\u001b[39;00m\n",
      "\u001b[1;31mNgException\u001b[0m: Meshpoint 0 not in mesh!"
     ]
    }
   ],
   "source": [
    "domain.analyse_multipacting()"
   ]
  },
  {
   "cell_type": "code",
   "execution_count": null,
   "id": "dc8c631f",
   "metadata": {},
   "outputs": [],
   "source": [
    "# domain.plot_sey()"
   ]
  },
  {
   "cell_type": "code",
   "execution_count": null,
   "id": "eb88aa5c",
   "metadata": {},
   "outputs": [],
   "source": []
  }
 ],
 "metadata": {
  "kernelspec": {
   "display_name": "Python 3 (ipykernel)",
   "language": "python",
   "name": "python3"
  },
  "language_info": {
   "codemirror_mode": {
    "name": "ipython",
    "version": 3
   },
   "file_extension": ".py",
   "mimetype": "text/x-python",
   "name": "python",
   "nbconvert_exporter": "python",
   "pygments_lexer": "ipython3",
   "version": "3.11.9"
  },
  "toc": {
   "base_numbering": 1,
   "nav_menu": {},
   "number_sections": true,
   "sideBar": true,
   "skip_h1_title": false,
   "title_cell": "Table of Contents",
   "title_sidebar": "Contents",
   "toc_cell": false,
   "toc_position": {},
   "toc_section_display": true,
   "toc_window_display": false
  }
 },
 "nbformat": 4,
 "nbformat_minor": 5
}
