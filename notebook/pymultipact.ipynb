{
 "cells": [
  {
   "cell_type": "code",
   "execution_count": 1,
   "id": "281b5b33",
   "metadata": {},
   "outputs": [
    {
     "name": "stdout",
     "output_type": "stream",
     "text": [
      "D:\\Dropbox\\PyMultipact\n"
     ]
    },
    {
     "name": "stderr",
     "output_type": "stream",
     "text": [
      "C:\\Users\\sosoho\\anaconda3\\envs\\PyMultipactNEW\\Lib\\site-packages\\IPython\\core\\magics\\osm.py:417: UserWarning: This is now an optional IPython functionality, setting dhist requires you to install the `pickleshare` library.\n",
      "  self.shell.db['dhist'] = compress_dhist(dhist)[-100:]\n"
     ]
    }
   ],
   "source": [
    "%cd .."
   ]
  },
  {
   "cell_type": "code",
   "execution_count": 2,
   "id": "5fbc5617-7168-4e4c-a4ec-4d2aea58d8b5",
   "metadata": {},
   "outputs": [],
   "source": [
    "# import ipympl\n",
    "import matplotlib\n",
    "%matplotlib Qt5Agg\n",
    "from domain import Domain"
   ]
  },
  {
   "cell_type": "code",
   "execution_count": 3,
   "id": "271ae5da",
   "metadata": {},
   "outputs": [
    {
     "data": {
      "application/vnd.jupyter.widget-view+json": {
       "model_id": "bba48dd52977404f8b469e0e7a150adc",
       "version_major": 2,
       "version_minor": 0
      },
      "text/plain": [
       "WebGuiWidget(layout=Layout(height='50vh', width='100%'), value={'gui_settings': {}, 'ngsolve_version': '6.2.24…"
      ]
     },
     "metadata": {},
     "output_type": "display_data"
    }
   ],
   "source": [
    "domain = Domain()\n",
    "domain.draw_mesh()"
   ]
  },
  {
   "cell_type": "code",
   "execution_count": 4,
   "id": "9b28647f",
   "metadata": {},
   "outputs": [
    {
     "name": "stdout",
     "output_type": "stream",
     "text": [
      "0 5.1317051818031564e-12 freq:  0.00010808655714796717 MHz\n",
      "1 743.1871021621216 freq:  1300.7382652632937 MHz\n",
      "2 2692.953600680201 freq:  2476.026394046472 MHz\n"
     ]
    }
   ],
   "source": [
    "domain.compute_fields()"
   ]
  },
  {
   "cell_type": "code",
   "execution_count": 5,
   "id": "44032bdf",
   "metadata": {},
   "outputs": [
    {
     "data": {
      "application/vnd.jupyter.widget-view+json": {
       "model_id": "e2e62bbbc6984b56b10711fea0350566",
       "version_major": 2,
       "version_minor": 0
      },
      "text/plain": [
       "WebGuiWidget(layout=Layout(height='50vh', width='100%'), value={'gui_settings': {}, 'ngsolve_version': '6.2.24…"
      ]
     },
     "metadata": {},
     "output_type": "display_data"
    }
   ],
   "source": [
    "domain.draw_fields(1, 'E')"
   ]
  },
  {
   "cell_type": "code",
   "execution_count": 6,
   "id": "8c208f30",
   "metadata": {},
   "outputs": [
    {
     "name": "stdout",
     "output_type": "stream",
     "text": [
      "[[-0.0576524   0.        ]\n",
      " [-0.0576524   0.035     ]\n",
      " [-0.05762051  0.03500007]\n",
      " ...\n",
      " [ 0.05762051  0.03500007]\n",
      " [ 0.0576524   0.035     ]\n",
      " [ 0.0576524   0.        ]]\n",
      "1300738265.2632937\n",
      "Initial number of particles:  10\n",
      "Epk: 42.5 MV/m, particles in bright set: 6, time: 17.429010152816772\n",
      "Initial number of particles:  10\n",
      "Epk: 80.0 MV/m, particles in bright set: 0, time: 1.0672903060913086\n",
      "Total runtime::  18.49729895591736\n",
      "Done with multipacting analysis.\n"
     ]
    }
   ],
   "source": [
    "domain.analyse_multipacting()"
   ]
  },
  {
   "cell_type": "code",
   "execution_count": 7,
   "id": "dc8c631f",
   "metadata": {},
   "outputs": [],
   "source": [
    "# domain.plot_sey()"
   ]
  },
  {
   "cell_type": "code",
   "execution_count": 8,
   "id": "eb88aa5c",
   "metadata": {},
   "outputs": [],
   "source": [
    "# domain.load_multipacting_result('mresults.pkl')"
   ]
  },
  {
   "cell_type": "code",
   "execution_count": 9,
   "id": "0d10b0c0-b3e1-4577-b760-1c0d53643bc0",
   "metadata": {},
   "outputs": [
    {
     "data": {
      "text/plain": [
       "[31.24100253179064, 0]"
      ]
     },
     "execution_count": 9,
     "metadata": {},
     "output_type": "execute_result"
    }
   ],
   "source": [
    "domain.calculate_Ef()"
   ]
  },
  {
   "cell_type": "code",
   "execution_count": 10,
   "id": "d4ed9632-185b-48d7-a932-f6153e2c20f1",
   "metadata": {},
   "outputs": [],
   "source": [
    "domain.plot_Ef()"
   ]
  },
  {
   "cell_type": "code",
   "execution_count": 11,
   "id": "b1958442-0381-4664-bf9b-a5a5ac80a1fd",
   "metadata": {},
   "outputs": [],
   "source": [
    "domain.plot_cf()"
   ]
  }
 ],
 "metadata": {
  "kernelspec": {
   "display_name": "Python 3 (ipykernel)",
   "language": "python",
   "name": "python3"
  },
  "language_info": {
   "codemirror_mode": {
    "name": "ipython",
    "version": 3
   },
   "file_extension": ".py",
   "mimetype": "text/x-python",
   "name": "python",
   "nbconvert_exporter": "python",
   "pygments_lexer": "ipython3",
   "version": "3.11.9"
  },
  "toc": {
   "base_numbering": 1,
   "nav_menu": {},
   "number_sections": true,
   "sideBar": true,
   "skip_h1_title": false,
   "title_cell": "Table of Contents",
   "title_sidebar": "Contents",
   "toc_cell": false,
   "toc_position": {},
   "toc_section_display": true,
   "toc_window_display": false
  }
 },
 "nbformat": 4,
 "nbformat_minor": 5
}
